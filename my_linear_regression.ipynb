{
 "cells": [
  {
   "cell_type": "code",
   "execution_count": 1,
   "metadata": {},
   "outputs": [],
   "source": [
    "import tensorflow as tf\n",
    "import numpy as np\n",
    "import matplotlib.pyplot as plt\n",
    "rng = np.random"
   ]
  },
  {
   "cell_type": "code",
   "execution_count": 2,
   "metadata": {},
   "outputs": [
    {
     "data": {
      "text/plain": [
       "[<matplotlib.lines.Line2D at 0x7f0f4ff73240>]"
      ]
     },
     "execution_count": 2,
     "metadata": {},
     "output_type": "execute_result"
    },
    {
     "data": {
      "image/png": "[encoded data removed]",
      "text/plain": [
       "<matplotlib.figure.Figure at 0x7f0f51fa5cc0>"
      ]
     },
     "metadata": {},
     "output_type": "display_data"
    }
   ],
   "source": [
    "train_X = np.arange(20)\n",
    "train_Y = train_X+(np.random.rand(20)-0.5)*10\n",
    "n_samples = train_X.shape[0]\n",
    "plt.plot(train_X,train_Y)"
   ]
  },
  {
   "cell_type": "code",
   "execution_count": 3,
   "metadata": {},
   "outputs": [],
   "source": [
    "# Parameters\n",
    "learning_rate = 0.1\n",
    "training_epochs = 1000\n",
    "display_step = 50"
   ]
  },
  {
   "cell_type": "code",
   "execution_count": 4,
   "metadata": {},
   "outputs": [],
   "source": [
    "# Graph input\n",
    "X = tf.placeholder(tf.float32)\n",
    "Y = tf.placeholder(tf.float32)\n",
    "# Set model weights\n",
    "W = tf.Variable(rng.randn(),name = 'weights')\n",
    "b = tf.Variable(rng.randn(),name = 'bias')"
   ]
  },
  {
   "cell_type": "code",
   "execution_count": 5,
   "metadata": {},
   "outputs": [],
   "source": [
    "def net(x,W,b):\n",
    "    return tf.add(tf.multiply(x,W),b)\n",
    "pred = net(X,W,b)\n",
    "cost = tf.reduce_sum(tf.pow(pred-Y,2))/(2*n_samples)\n",
    "optimizer = tf.train.GradientDescentOptimizer(learning_rate).minimize(cost)"
   ]
  },
  {
   "cell_type": "code",
   "execution_count": 6,
   "metadata": {},
   "outputs": [
    {
     "name": "stdout",
     "output_type": "stream",
     "text": [
      "epoch:0050 traing_cost =  7.978759766 W= 0.6349508 b= 0.55117995\n",
      "epoch:0100 traing_cost =  7.743182182 W= 0.61047494 b= 1.0282029\n",
      "epoch:0150 traing_cost =  7.680642128 W= 0.6020659 b= 1.1920906\n",
      "epoch:0200 traing_cost =  7.661329746 W= 0.5991768 b= 1.2483962\n",
      "epoch:0250 traing_cost =  7.654942513 W= 0.59818447 b= 1.2677408\n",
      "epoch:0300 traing_cost =  7.652786255 W= 0.59784335 b= 1.2743866\n",
      "epoch:0350 traing_cost =  7.652044773 W= 0.5977263 b= 1.2766699\n",
      "epoch:0400 traing_cost =  7.651789665 W= 0.59768605 b= 1.2774544\n",
      "epoch:0450 traing_cost =  7.651704311 W= 0.5976721 b= 1.2777253\n",
      "epoch:0500 traing_cost =  7.651679993 W= 0.5976673 b= 1.2778156\n",
      "epoch:0550 traing_cost =  7.651663780 W= 0.5976655 b= 1.2778529\n",
      "epoch:0600 traing_cost =  7.651663780 W= 0.5976648 b= 1.2778647\n",
      "epoch:0650 traing_cost =  7.651666164 W= 0.59766465 b= 1.2778652\n",
      "epoch:0700 traing_cost =  7.651666164 W= 0.59766465 b= 1.2778652\n",
      "epoch:0750 traing_cost =  7.651666164 W= 0.59766465 b= 1.2778652\n",
      "epoch:0800 traing_cost =  7.651666164 W= 0.59766465 b= 1.2778652\n",
      "epoch:0850 traing_cost =  7.651666164 W= 0.59766465 b= 1.2778652\n",
      "epoch:0900 traing_cost =  7.651666164 W= 0.59766465 b= 1.2778652\n",
      "epoch:0950 traing_cost =  7.651666164 W= 0.59766465 b= 1.2778652\n",
      "epoch:1000 traing_cost =  7.651666164 W= 0.59766465 b= 1.2778652\n",
      "traing_cost =  7.651666 W= 0.59766465 b= 1.2778652 \n",
      "\n"
     ]
    },
    {
     "data": {
      "image/png": "[encoded data removed]",
      "text/plain": [
       "<matplotlib.figure.Figure at 0x7f0f4fe20e80>"
      ]
     },
     "metadata": {},
     "output_type": "display_data"
    }
   ],
   "source": [
    "init = tf.global_variables_initializer()\n",
    "with tf.Session() as sess:\n",
    "    sess.run(init)\n",
    "    for epoch in range(training_epochs):\n",
    "        for (x,y) in zip(train_X,train_Y):\n",
    "            sess.run(optimizer, feed_dict = {X:x, Y:y})\n",
    "        if (epoch+1)%display_step == 0:\n",
    "            c = sess.run(cost, feed_dict = {X:train_X, Y:train_Y })\n",
    "            print('epoch:%04d' %(epoch+1),'traing_cost = ', \"{:.9f}\".format(c), \\\n",
    "                  \"W=\", sess.run(W), \"b=\", sess.run(b))\n",
    "    traing_cost = sess.run(cost, feed_dict = {X:train_X, Y:train_Y })\n",
    "    print('traing_cost = ',traing_cost, \"W=\", sess.run(W), \"b=\", sess.run(b), '\\n')\n",
    "    plt.plot(train_X, train_Y, 'ro', label='Original data')\n",
    "    plt.plot(train_X,sess.run(W) * train_X + sess.run(b), label='Fitted line')\n",
    "    plt.legend()\n",
    "    plt.show()"
   ]
  },
  {
   "cell_type": "code",
   "execution_count": null,
   "metadata": {},
   "outputs": [],
   "source": []
  }
 ],
 "metadata": {
  "kernelspec": {
   "display_name": "Python 3",
   "language": "python",
   "name": "python3"
  },
  "language_info": {
   "codemirror_mode": {
    "name": "ipython",
    "version": 3
   },
   "file_extension": ".py",
   "mimetype": "text/x-python",
   "name": "python",
   "nbconvert_exporter": "python",
   "pygments_lexer": "ipython3",
   "version": "3.5.2"
  }
 },
 "nbformat": 4,
 "nbformat_minor": 2
}
