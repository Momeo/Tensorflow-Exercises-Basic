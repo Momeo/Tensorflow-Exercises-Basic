{
 "cells": [
  {
   "cell_type": "code",
   "execution_count": 1,
   "metadata": {},
   "outputs": [],
   "source": [
    "import tensorflow as tf\n",
    "import numpy as np\n",
    "import matplotlib.pyplot as plt\n",
    "rng = np.random.RandomState(1)"
   ]
  },
  {
   "cell_type": "code",
   "execution_count": 2,
   "metadata": {
    "scrolled": true
   },
   "outputs": [
    {
     "name": "stdout",
     "output_type": "stream",
     "text": [
      "[[0, 1], [1, 0], [1, 0], [1, 0], [1, 0], [0, 1], [0, 1], [1, 0], [1, 0], [1, 0], [0, 1], [0, 1], [0, 1], [1, 0], [0, 1], [1, 0], [0, 1], [0, 1], [0, 1], [1, 0], [0, 1], [0, 1], [1, 0], [0, 1], [1, 0], [1, 0], [1, 0], [1, 0], [1, 0], [0, 1], [1, 0], [0, 1], [1, 0], [0, 1], [0, 1], [0, 1], [1, 0], [1, 0], [0, 1], [0, 1], [0, 1], [0, 1], [0, 1], [0, 1], [0, 1], [0, 1], [0, 1], [1, 0], [0, 1], [1, 0], [1, 0], [0, 1], [0, 1], [1, 0], [0, 1], [1, 0], [0, 1], [1, 0], [0, 1], [1, 0], [1, 0], [1, 0], [0, 1], [0, 1], [1, 0], [0, 1], [1, 0], [0, 1], [0, 1], [0, 1], [1, 0], [1, 0], [1, 0], [1, 0], [1, 0], [0, 1], [1, 0], [1, 0], [1, 0], [0, 1], [1, 0], [0, 1], [1, 0], [1, 0], [0, 1], [0, 1], [1, 0], [0, 1], [1, 0], [1, 0], [1, 0], [1, 0], [0, 1], [1, 0], [0, 1], [1, 0], [0, 1], [0, 1], [1, 0], [0, 1], [0, 1], [0, 1], [1, 0], [0, 1], [0, 1], [0, 1], [1, 0], [1, 0], [1, 0], [1, 0], [1, 0], [1, 0], [0, 1], [0, 1], [0, 1], [0, 1], [0, 1], [0, 1], [1, 0], [0, 1], [0, 1], [1, 0], [0, 1], [1, 0], [0, 1], [1, 0], [0, 1], [0, 1]]\n"
     ]
    }
   ],
   "source": [
    "# Train dataset\n",
    "dataset_size = 128\n",
    "X_train = rng.rand(dataset_size,2)\n",
    "Y_train = [ [int(x1+x2<1),int(x1+x2>=1)] for (x1,x2) in X_train]\n",
    "print (Y_train)"
   ]
  },
  {
   "cell_type": "code",
   "execution_count": 7,
   "metadata": {},
   "outputs": [
    {
     "data": {
      "text/plain": [
       "[[0, 1], [1, 0], [1, 0], [1, 0], [1, 0], [0, 1], [0, 1], [1, 0]]"
      ]
     },
     "execution_count": 7,
     "metadata": {},
     "output_type": "execute_result"
    }
   ],
   "source": [
    "Y_train[0:8]"
   ]
  },
  {
   "cell_type": "code",
   "execution_count": 3,
   "metadata": {},
   "outputs": [],
   "source": [
    "# Test dataset\n",
    "X_test = rng.rand(20,2)\n",
    "Y_test = [ [int(x1+x2<1),int(x1+x2>=1)] for (x1,x2) in X_test]"
   ]
  },
  {
   "cell_type": "code",
   "execution_count": 12,
   "metadata": {},
   "outputs": [],
   "source": [
    "batch_size = 8\n",
    "learning_rate = 0.003\n",
    "training_epochs = 9"
   ]
  },
  {
   "cell_type": "code",
   "execution_count": 13,
   "metadata": {},
   "outputs": [],
   "source": [
    "x = tf.placeholder(shape=[None,2],dtype=tf.float32)\n",
    "y = tf.placeholder(shape=[None,2],dtype=tf.float32)\n",
    "\n",
    "# Set model weights\n",
    "w1 = tf.Variable(tf.random_normal([2, 3],stddev=1,seed=1))\n",
    "w2 = tf.Variable(tf.random_normal([3, 2],stddev=1,seed=1))\n",
    "b1 = tf.Variable(tf.random_normal([3],stddev=1,seed=1))\n",
    "b2 = tf.Variable(tf.random_normal([2],stddev=1,seed=1))\n",
    "\n",
    "# Construct model\n",
    "h1 = tf.matmul(x,w1) + b1\n",
    "pred = tf.nn.softmax(tf.matmul(h1,w2)+b2)\n",
    "\n",
    "# Minimize error using cross entropy\n",
    "cross_entropy = tf.reduce_mean(-tf.reduce_sum(y*tf.log(pred)))\n",
    "\n",
    "# Gradient Descent\n",
    "optimizer = tf.train.GradientDescentOptimizer(learning_rate).minimize(cross_entropy)\n",
    "\n",
    "# Initializing the variables\n",
    "init = tf.global_variables_initializer()"
   ]
  },
  {
   "cell_type": "code",
   "execution_count": 21,
   "metadata": {},
   "outputs": [
    {
     "name": "stdout",
     "output_type": "stream",
     "text": [
      "[[-0.8113182   1.4845988   0.06532937]\n",
      " [-2.4427042   0.0992484   0.5912243 ]]\n",
      "[[-0.8113182   1.4845988 ]\n",
      " [ 0.06532937 -2.4427042 ]\n",
      " [ 0.0992484   0.5912243 ]]\n",
      "Step: 00000 cost= 691.742431641\n",
      "Step: 01000 cost= 22.195419312\n",
      "Step: 02000 cost= 14.612421989\n",
      "Step: 03000 cost= 11.782528877\n",
      "Step: 04000 cost= 9.987293243\n",
      "Step: 05000 cost= 8.894448280\n",
      "Step: 06000 cost= 7.953775883\n",
      "Step: 07000 cost= 7.344328403\n",
      "Step: 08000 cost= 6.729755402\n",
      "Step: 09000 cost= 6.336392403\n",
      "Step: 10000 cost= 5.888735294\n",
      "Step: 11000 cost= 5.614371300\n",
      "Step: 12000 cost= 5.266350269\n",
      "Step: 13000 cost= 5.065927505\n",
      "Step: 14000 cost= 4.783364296\n",
      "Step: 15000 cost= 4.632598400\n",
      "Step: 16000 cost= 4.395970345\n",
      "Optimization Finished!\n",
      "Accuracy: 1.0\n",
      "[1 0 1 1 1 1 0 0 1 1 0 1 1 0 1 1 1 1 1 0]\n",
      "[1 0 1 1 1 1 0 0 1 1 0 1 1 0 1 1 1 1 1 0]\n"
     ]
    }
   ],
   "source": [
    "with tf.Session() as sess:\n",
    "    sess.run(init)\n",
    "    print (sess.run(w1))\n",
    "    print (sess.run(w2))\n",
    "    step = 17000\n",
    "    for i in range(step):        \n",
    "        start = (i*batch_size) % dataset_size\n",
    "        end = min(start + batch_size,dataset_size)\n",
    "        sess.run(optimizer, feed_dict={x: X_train[start:end], y: Y_train[start:end]})\n",
    "        if i % 1000 == 0:\n",
    "            total_cross_entropy = sess.run(cross_entropy, feed_dict={x: X_train, y: Y_train})\n",
    "            print (\"Step:\", '%05d' % i, \"cost=\", \"{:.9f}\".format(total_cross_entropy))\n",
    "    print (\"Optimization Finished!\")\n",
    "    \n",
    "    # Test model\n",
    "    Y_pred = tf.argmax(pred, 1)\n",
    "    Y_real = tf.argmax(y, 1)\n",
    "    correct_prediction = tf.equal(tf.argmax(pred, 1), tf.argmax(y, 1))\n",
    "    # Calculate accuracy for 3000 examples\n",
    "    accuracy = tf.reduce_mean(tf.cast(correct_prediction, tf.float32))\n",
    "    print (\"Accuracy:\", accuracy.eval({x:X_test, y:Y_test}))\n",
    "    #Y_pred = pred.eval({x:X_test})\n",
    "    print (sess.run(Y_pred, feed_dict={x: X_test}))\n",
    "    print (sess.run(Y_real, feed_dict={y: Y_test}))"
   ]
  },
  {
   "cell_type": "code",
   "execution_count": null,
   "metadata": {
    "scrolled": false
   },
   "outputs": [],
   "source": [
    "a = rng.rand(10,1)\n",
    "a = [int(i>0.5) for i in a ]\n",
    "a = np.array(a)\n",
    "print(a)"
   ]
  },
  {
   "cell_type": "code",
   "execution_count": null,
   "metadata": {},
   "outputs": [],
   "source": []
  }
 ],
 "metadata": {
  "kernelspec": {
   "display_name": "Python 3",
   "language": "python",
   "name": "python3"
  },
  "language_info": {
   "codemirror_mode": {
    "name": "ipython",
    "version": 3
   },
   "file_extension": ".py",
   "mimetype": "text/x-python",
   "name": "python",
   "nbconvert_exporter": "python",
   "pygments_lexer": "ipython3",
   "version": "3.5.2"
  }
 },
 "nbformat": 4,
 "nbformat_minor": 2
}
